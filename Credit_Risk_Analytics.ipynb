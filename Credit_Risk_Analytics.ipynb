{
 "cells": [
  {
   "cell_type": "code",
   "execution_count": 124,
   "metadata": {},
   "outputs": [],
   "source": [
    "import pandas as pd\n",
    "import numpy as np\n",
    "from scipy import stats\n",
    "import matplotlib.pyplot as plt\n",
    "import seaborn as sns\n",
    "from sklearn.metrics import confusion_matrix\n",
    "from sklearn.metrics import roc_auc_score ,accuracy_score , roc_curve\n",
    "from statsmodels.formula.api import logit\n",
    "from sklearn.model_selection import train_test_split\n",
    "from statsmodels.stats.outliers_influence import variance_inflation_factor\n",
    "from patsy import dmatrices\n",
    "\n",
    "%matplotlib inline"
   ]
  },
  {
   "cell_type": "code",
   "execution_count": 125,
   "metadata": {},
   "outputs": [],
   "source": [
    "data = pd.read_csv(\"bankloans.csv\")"
   ]
  },
  {
   "cell_type": "code",
   "execution_count": 126,
   "metadata": {},
   "outputs": [
    {
     "data": {
      "text/html": [
       "<div>\n",
       "<style scoped>\n",
       "    .dataframe tbody tr th:only-of-type {\n",
       "        vertical-align: middle;\n",
       "    }\n",
       "\n",
       "    .dataframe tbody tr th {\n",
       "        vertical-align: top;\n",
       "    }\n",
       "\n",
       "    .dataframe thead th {\n",
       "        text-align: right;\n",
       "    }\n",
       "</style>\n",
       "<table border=\"1\" class=\"dataframe\">\n",
       "  <thead>\n",
       "    <tr style=\"text-align: right;\">\n",
       "      <th></th>\n",
       "      <th>age</th>\n",
       "      <th>ed</th>\n",
       "      <th>employ</th>\n",
       "      <th>address</th>\n",
       "      <th>income</th>\n",
       "      <th>debtinc</th>\n",
       "      <th>creddebt</th>\n",
       "      <th>othdebt</th>\n",
       "      <th>default</th>\n",
       "    </tr>\n",
       "  </thead>\n",
       "  <tbody>\n",
       "    <tr>\n",
       "      <th>0</th>\n",
       "      <td>41</td>\n",
       "      <td>3</td>\n",
       "      <td>17</td>\n",
       "      <td>12</td>\n",
       "      <td>176</td>\n",
       "      <td>9.3</td>\n",
       "      <td>11.359392</td>\n",
       "      <td>5.008608</td>\n",
       "      <td>1.0</td>\n",
       "    </tr>\n",
       "    <tr>\n",
       "      <th>1</th>\n",
       "      <td>27</td>\n",
       "      <td>1</td>\n",
       "      <td>10</td>\n",
       "      <td>6</td>\n",
       "      <td>31</td>\n",
       "      <td>17.3</td>\n",
       "      <td>1.362202</td>\n",
       "      <td>4.000798</td>\n",
       "      <td>0.0</td>\n",
       "    </tr>\n",
       "    <tr>\n",
       "      <th>2</th>\n",
       "      <td>40</td>\n",
       "      <td>1</td>\n",
       "      <td>15</td>\n",
       "      <td>14</td>\n",
       "      <td>55</td>\n",
       "      <td>5.5</td>\n",
       "      <td>0.856075</td>\n",
       "      <td>2.168925</td>\n",
       "      <td>0.0</td>\n",
       "    </tr>\n",
       "    <tr>\n",
       "      <th>3</th>\n",
       "      <td>41</td>\n",
       "      <td>1</td>\n",
       "      <td>15</td>\n",
       "      <td>14</td>\n",
       "      <td>120</td>\n",
       "      <td>2.9</td>\n",
       "      <td>2.658720</td>\n",
       "      <td>0.821280</td>\n",
       "      <td>0.0</td>\n",
       "    </tr>\n",
       "    <tr>\n",
       "      <th>4</th>\n",
       "      <td>24</td>\n",
       "      <td>2</td>\n",
       "      <td>2</td>\n",
       "      <td>0</td>\n",
       "      <td>28</td>\n",
       "      <td>17.3</td>\n",
       "      <td>1.787436</td>\n",
       "      <td>3.056564</td>\n",
       "      <td>1.0</td>\n",
       "    </tr>\n",
       "  </tbody>\n",
       "</table>\n",
       "</div>"
      ],
      "text/plain": [
       "   age  ed  employ  address  income  debtinc   creddebt   othdebt  default\n",
       "0   41   3      17       12     176      9.3  11.359392  5.008608      1.0\n",
       "1   27   1      10        6      31     17.3   1.362202  4.000798      0.0\n",
       "2   40   1      15       14      55      5.5   0.856075  2.168925      0.0\n",
       "3   41   1      15       14     120      2.9   2.658720  0.821280      0.0\n",
       "4   24   2       2        0      28     17.3   1.787436  3.056564      1.0"
      ]
     },
     "execution_count": 126,
     "metadata": {},
     "output_type": "execute_result"
    }
   ],
   "source": [
    "data.head()"
   ]
  },
  {
   "cell_type": "code",
   "execution_count": 127,
   "metadata": {},
   "outputs": [
    {
     "name": "stdout",
     "output_type": "stream",
     "text": [
      "<class 'pandas.core.frame.DataFrame'>\n",
      "RangeIndex: 850 entries, 0 to 849\n",
      "Data columns (total 9 columns):\n",
      " #   Column    Non-Null Count  Dtype  \n",
      "---  ------    --------------  -----  \n",
      " 0   age       850 non-null    int64  \n",
      " 1   ed        850 non-null    int64  \n",
      " 2   employ    850 non-null    int64  \n",
      " 3   address   850 non-null    int64  \n",
      " 4   income    850 non-null    int64  \n",
      " 5   debtinc   850 non-null    float64\n",
      " 6   creddebt  850 non-null    float64\n",
      " 7   othdebt   850 non-null    float64\n",
      " 8   default   700 non-null    float64\n",
      "dtypes: float64(4), int64(5)\n",
      "memory usage: 59.9 KB\n"
     ]
    }
   ],
   "source": [
    "data.info()"
   ]
  },
  {
   "cell_type": "code",
   "execution_count": 128,
   "metadata": {},
   "outputs": [],
   "source": [
    "continous_variables = data.select_dtypes([\"int64\", \"float64\"])\n",
    "catagorical_variables = data.select_dtypes(\"object\")"
   ]
  },
  {
   "cell_type": "code",
   "execution_count": 129,
   "metadata": {},
   "outputs": [],
   "source": [
    "def con_summary(x):\n",
    "    return pd.Series([x.shape[0], x.shape[0] - x.count(),\n",
    "                      x.mean() ,\n",
    "                      x.quantile(0) , x.quantile(0.01) , x.quantile(0.05), x.quantile(0.1),\n",
    "                      x.quantile(0.25), x.quantile(0.5), x.quantile(0.75) , \n",
    "                      x.quantile(0.9) , x.quantile(0.95) , x.quantile(0.99), x.quantile(1)] ,\n",
    "                    index = [\"No of Observation\" , \"No of missing\" , \n",
    "                             \"Mean\" ,\n",
    "                             \"Min\" , \"0.01\" , \"0.05\" , \"0.10\" ,\n",
    "                             \"0.25\" , \"0.5\" , \"0.75\" ,\n",
    "                              \"0.90\" , \"0.95\" , \"0.99\" , \"Max\" ])"
   ]
  },
  {
   "cell_type": "markdown",
   "metadata": {},
   "source": [
    "## Data Audit"
   ]
  },
  {
   "cell_type": "code",
   "execution_count": 130,
   "metadata": {},
   "outputs": [
    {
     "data": {
      "text/html": [
       "<div>\n",
       "<style scoped>\n",
       "    .dataframe tbody tr th:only-of-type {\n",
       "        vertical-align: middle;\n",
       "    }\n",
       "\n",
       "    .dataframe tbody tr th {\n",
       "        vertical-align: top;\n",
       "    }\n",
       "\n",
       "    .dataframe thead th {\n",
       "        text-align: right;\n",
       "    }\n",
       "</style>\n",
       "<table border=\"1\" class=\"dataframe\">\n",
       "  <thead>\n",
       "    <tr style=\"text-align: right;\">\n",
       "      <th></th>\n",
       "      <th>No of Observation</th>\n",
       "      <th>No of missing</th>\n",
       "      <th>Mean</th>\n",
       "      <th>Min</th>\n",
       "      <th>0.01</th>\n",
       "      <th>0.05</th>\n",
       "      <th>0.10</th>\n",
       "      <th>0.25</th>\n",
       "      <th>0.5</th>\n",
       "      <th>0.75</th>\n",
       "      <th>0.90</th>\n",
       "      <th>0.95</th>\n",
       "      <th>0.99</th>\n",
       "      <th>Max</th>\n",
       "    </tr>\n",
       "  </thead>\n",
       "  <tbody>\n",
       "    <tr>\n",
       "      <th>age</th>\n",
       "      <td>850.0</td>\n",
       "      <td>0.0</td>\n",
       "      <td>35.029412</td>\n",
       "      <td>20.000000</td>\n",
       "      <td>21.000000</td>\n",
       "      <td>23.000000</td>\n",
       "      <td>25.000000</td>\n",
       "      <td>29.000000</td>\n",
       "      <td>34.000000</td>\n",
       "      <td>41.000000</td>\n",
       "      <td>47.000000</td>\n",
       "      <td>49.000000</td>\n",
       "      <td>53.000000</td>\n",
       "      <td>56.00000</td>\n",
       "    </tr>\n",
       "    <tr>\n",
       "      <th>ed</th>\n",
       "      <td>850.0</td>\n",
       "      <td>0.0</td>\n",
       "      <td>1.710588</td>\n",
       "      <td>1.000000</td>\n",
       "      <td>1.000000</td>\n",
       "      <td>1.000000</td>\n",
       "      <td>1.000000</td>\n",
       "      <td>1.000000</td>\n",
       "      <td>1.000000</td>\n",
       "      <td>2.000000</td>\n",
       "      <td>3.000000</td>\n",
       "      <td>4.000000</td>\n",
       "      <td>4.000000</td>\n",
       "      <td>5.00000</td>\n",
       "    </tr>\n",
       "    <tr>\n",
       "      <th>employ</th>\n",
       "      <td>850.0</td>\n",
       "      <td>0.0</td>\n",
       "      <td>8.565882</td>\n",
       "      <td>0.000000</td>\n",
       "      <td>0.000000</td>\n",
       "      <td>0.000000</td>\n",
       "      <td>1.000000</td>\n",
       "      <td>3.000000</td>\n",
       "      <td>7.000000</td>\n",
       "      <td>13.000000</td>\n",
       "      <td>18.000000</td>\n",
       "      <td>21.550000</td>\n",
       "      <td>29.000000</td>\n",
       "      <td>33.00000</td>\n",
       "    </tr>\n",
       "    <tr>\n",
       "      <th>address</th>\n",
       "      <td>850.0</td>\n",
       "      <td>0.0</td>\n",
       "      <td>8.371765</td>\n",
       "      <td>0.000000</td>\n",
       "      <td>0.000000</td>\n",
       "      <td>0.000000</td>\n",
       "      <td>1.000000</td>\n",
       "      <td>3.000000</td>\n",
       "      <td>7.000000</td>\n",
       "      <td>12.000000</td>\n",
       "      <td>19.000000</td>\n",
       "      <td>22.550000</td>\n",
       "      <td>26.510000</td>\n",
       "      <td>34.00000</td>\n",
       "    </tr>\n",
       "    <tr>\n",
       "      <th>income</th>\n",
       "      <td>850.0</td>\n",
       "      <td>0.0</td>\n",
       "      <td>46.675294</td>\n",
       "      <td>13.000000</td>\n",
       "      <td>14.490000</td>\n",
       "      <td>17.000000</td>\n",
       "      <td>19.000000</td>\n",
       "      <td>24.000000</td>\n",
       "      <td>35.000000</td>\n",
       "      <td>55.750000</td>\n",
       "      <td>84.000000</td>\n",
       "      <td>115.550000</td>\n",
       "      <td>220.510000</td>\n",
       "      <td>446.00000</td>\n",
       "    </tr>\n",
       "    <tr>\n",
       "      <th>debtinc</th>\n",
       "      <td>850.0</td>\n",
       "      <td>0.0</td>\n",
       "      <td>10.171647</td>\n",
       "      <td>0.100000</td>\n",
       "      <td>0.900000</td>\n",
       "      <td>1.900000</td>\n",
       "      <td>2.900000</td>\n",
       "      <td>5.100000</td>\n",
       "      <td>8.700000</td>\n",
       "      <td>13.800000</td>\n",
       "      <td>19.200000</td>\n",
       "      <td>23.510000</td>\n",
       "      <td>31.565000</td>\n",
       "      <td>41.30000</td>\n",
       "    </tr>\n",
       "    <tr>\n",
       "      <th>creddebt</th>\n",
       "      <td>850.0</td>\n",
       "      <td>0.0</td>\n",
       "      <td>1.576805</td>\n",
       "      <td>0.011696</td>\n",
       "      <td>0.030349</td>\n",
       "      <td>0.108927</td>\n",
       "      <td>0.178306</td>\n",
       "      <td>0.382176</td>\n",
       "      <td>0.885091</td>\n",
       "      <td>1.898440</td>\n",
       "      <td>3.703304</td>\n",
       "      <td>5.348674</td>\n",
       "      <td>10.285997</td>\n",
       "      <td>20.56131</td>\n",
       "    </tr>\n",
       "    <tr>\n",
       "      <th>othdebt</th>\n",
       "      <td>850.0</td>\n",
       "      <td>0.0</td>\n",
       "      <td>3.078789</td>\n",
       "      <td>0.045584</td>\n",
       "      <td>0.162394</td>\n",
       "      <td>0.359900</td>\n",
       "      <td>0.552050</td>\n",
       "      <td>1.045942</td>\n",
       "      <td>2.003243</td>\n",
       "      <td>3.903001</td>\n",
       "      <td>7.111941</td>\n",
       "      <td>9.481105</td>\n",
       "      <td>16.931503</td>\n",
       "      <td>35.19750</td>\n",
       "    </tr>\n",
       "    <tr>\n",
       "      <th>default</th>\n",
       "      <td>850.0</td>\n",
       "      <td>150.0</td>\n",
       "      <td>0.261429</td>\n",
       "      <td>0.000000</td>\n",
       "      <td>0.000000</td>\n",
       "      <td>0.000000</td>\n",
       "      <td>0.000000</td>\n",
       "      <td>0.000000</td>\n",
       "      <td>0.000000</td>\n",
       "      <td>1.000000</td>\n",
       "      <td>1.000000</td>\n",
       "      <td>1.000000</td>\n",
       "      <td>1.000000</td>\n",
       "      <td>1.00000</td>\n",
       "    </tr>\n",
       "  </tbody>\n",
       "</table>\n",
       "</div>"
      ],
      "text/plain": [
       "          No of Observation  No of missing       Mean        Min       0.01  \\\n",
       "age                   850.0            0.0  35.029412  20.000000  21.000000   \n",
       "ed                    850.0            0.0   1.710588   1.000000   1.000000   \n",
       "employ                850.0            0.0   8.565882   0.000000   0.000000   \n",
       "address               850.0            0.0   8.371765   0.000000   0.000000   \n",
       "income                850.0            0.0  46.675294  13.000000  14.490000   \n",
       "debtinc               850.0            0.0  10.171647   0.100000   0.900000   \n",
       "creddebt              850.0            0.0   1.576805   0.011696   0.030349   \n",
       "othdebt               850.0            0.0   3.078789   0.045584   0.162394   \n",
       "default               850.0          150.0   0.261429   0.000000   0.000000   \n",
       "\n",
       "               0.05       0.10       0.25        0.5       0.75       0.90  \\\n",
       "age       23.000000  25.000000  29.000000  34.000000  41.000000  47.000000   \n",
       "ed         1.000000   1.000000   1.000000   1.000000   2.000000   3.000000   \n",
       "employ     0.000000   1.000000   3.000000   7.000000  13.000000  18.000000   \n",
       "address    0.000000   1.000000   3.000000   7.000000  12.000000  19.000000   \n",
       "income    17.000000  19.000000  24.000000  35.000000  55.750000  84.000000   \n",
       "debtinc    1.900000   2.900000   5.100000   8.700000  13.800000  19.200000   \n",
       "creddebt   0.108927   0.178306   0.382176   0.885091   1.898440   3.703304   \n",
       "othdebt    0.359900   0.552050   1.045942   2.003243   3.903001   7.111941   \n",
       "default    0.000000   0.000000   0.000000   0.000000   1.000000   1.000000   \n",
       "\n",
       "                0.95        0.99        Max  \n",
       "age        49.000000   53.000000   56.00000  \n",
       "ed          4.000000    4.000000    5.00000  \n",
       "employ     21.550000   29.000000   33.00000  \n",
       "address    22.550000   26.510000   34.00000  \n",
       "income    115.550000  220.510000  446.00000  \n",
       "debtinc    23.510000   31.565000   41.30000  \n",
       "creddebt    5.348674   10.285997   20.56131  \n",
       "othdebt     9.481105   16.931503   35.19750  \n",
       "default     1.000000    1.000000    1.00000  "
      ]
     },
     "execution_count": 130,
     "metadata": {},
     "output_type": "execute_result"
    }
   ],
   "source": [
    "continous_variables.apply(con_summary).T"
   ]
  },
  {
   "cell_type": "markdown",
   "metadata": {},
   "source": [
    "## Data Analysis"
   ]
  },
  {
   "cell_type": "markdown",
   "metadata": {},
   "source": [
    "#### Outlier Treatment on < 0.01 and > 0.99 quantiles "
   ]
  },
  {
   "cell_type": "code",
   "execution_count": 131,
   "metadata": {},
   "outputs": [],
   "source": [
    "continous_variables = continous_variables.apply(lambda x: x.clip(lower = x.quantile(0.01) , upper = x.quantile(0.99)))"
   ]
  },
  {
   "cell_type": "code",
   "execution_count": 132,
   "metadata": {},
   "outputs": [],
   "source": [
    "def miss_imp(x):\n",
    "    if x.name != \"default\":\n",
    "        return x.fillna(x.mean())"
   ]
  },
  {
   "cell_type": "markdown",
   "metadata": {},
   "source": [
    "#### Missing Value imputation"
   ]
  },
  {
   "cell_type": "code",
   "execution_count": 133,
   "metadata": {},
   "outputs": [],
   "source": [
    "continous_variables = continous_variables.apply( miss_imp )"
   ]
  },
  {
   "cell_type": "code",
   "execution_count": 134,
   "metadata": {},
   "outputs": [],
   "source": [
    "continous_variables.ed = round(continous_variables.ed)"
   ]
  },
  {
   "cell_type": "code",
   "execution_count": 135,
   "metadata": {},
   "outputs": [],
   "source": [
    "continous_variables[\"default\"] = data.default"
   ]
  },
  {
   "cell_type": "markdown",
   "metadata": {},
   "source": [
    "#### Seprating old customer from new ones"
   ]
  },
  {
   "cell_type": "code",
   "execution_count": 136,
   "metadata": {},
   "outputs": [],
   "source": [
    "data_new = continous_variables[700:]\n",
    "data_old = continous_variables[:700]"
   ]
  },
  {
   "cell_type": "markdown",
   "metadata": {},
   "source": [
    "#### Checking assumption of Logistic Regression and finding Information Value"
   ]
  },
  {
   "cell_type": "code",
   "execution_count": 137,
   "metadata": {},
   "outputs": [],
   "source": [
    "def IV_WOE(df , target , bins = 10 ):\n",
    "    iv , woe  =pd.DataFrame() , pd.DataFrame()\n",
    "    \n",
    "    cols = df.columns\n",
    "    \n",
    "    for feature in cols[~cols.isin([target])]:\n",
    "        if len(np.unique(df[feature])) > 2:\n",
    "            binned_X = pd.qcut(df[feature], bins , duplicates = \"drop\")\n",
    "            binned_n_target = pd.DataFrame({\"x\" : binned_X, \"y\": df[target]})\n",
    "        else:\n",
    "            binned_n_target = pd.DataFrame({\"x\" : df[feature] , \"y\" : df[target]})\n",
    "        woe_if = binned_n_target.groupby(\"x\")[\"y\"].agg([\"count\" ,\"sum\"]).reset_index()\n",
    "        woe_if.columns = [\"CUT_OFF\", \"N\" , \"Event\"]\n",
    "        woe_if[\"% Event\"] = woe_if.Event / woe_if.Event.sum()\n",
    "        woe_if[\"Non Event\"] = woe_if.N - woe_if.Event\n",
    "        woe_if[\"% Non Event\"] = woe_if[\"Non Event\"] / woe_if[\"Non Event\"].sum()\n",
    "        woe_if['WOE'] = np.log(woe_if['% Event'] / woe_if['% Non Event'])\n",
    "        woe_if['IV'] = woe_if['WOE'] * (woe_if['% Event'] - woe_if['% Non Event'])\n",
    "        woe_if.insert(0,\"Feature\", feature)\n",
    "        woe = pd.concat([woe , woe_if])\n",
    "        print(f\"Information Value of {feature} is {np.sum(woe_if.IV)}\")\n",
    "    iv = woe.groupby(\"Feature\")[\"IV\"].sum().reset_index().sort_values(\"IV\")\n",
    "    return woe ,iv"
   ]
  },
  {
   "cell_type": "markdown",
   "metadata": {},
   "source": [
    "## Assumption "
   ]
  },
  {
   "cell_type": "markdown",
   "metadata": {},
   "source": [
    "- Linearity in Log Odds of a variable\n",
    "- No Multi Colinearity\n",
    "- No Heteroscedasticity\n",
    "- No Auto Correlation "
   ]
  },
  {
   "cell_type": "markdown",
   "metadata": {},
   "source": [
    "#### Weight Of Evidence (WOE) of the continous variable should be Linear (Logistic Regression Assumption)"
   ]
  },
  {
   "cell_type": "markdown",
   "metadata": {},
   "source": [
    "##### Information Value indicates about the sepration betweeen the happening of event (defaulter) and not happening of event (not a defaulter)"
   ]
  },
  {
   "cell_type": "markdown",
   "metadata": {},
   "source": [
    "##### Or the value of information provided by the feature"
   ]
  },
  {
   "cell_type": "code",
   "execution_count": 138,
   "metadata": {},
   "outputs": [
    {
     "name": "stdout",
     "output_type": "stream",
     "text": [
      "Information Value of age is 0.24400037606590727\n",
      "Information Value of ed is 0.0411824153402818\n",
      "Information Value of employ is 0.622351238222967\n",
      "Information Value of address is 0.2371926430838918\n",
      "Information Value of income is 0.18451274541583207\n",
      "Information Value of debtinc is 0.7757827299557415\n",
      "Information Value of creddebt is 0.3233493955785788\n",
      "Information Value of othdebt is 0.15510306942591767\n"
     ]
    }
   ],
   "source": [
    "woe, iv = IV_WOE(data_old , \"default\")"
   ]
  },
  {
   "cell_type": "markdown",
   "metadata": {},
   "source": [
    "#### Variable \"debtinc\" validates the assumption"
   ]
  },
  {
   "cell_type": "markdown",
   "metadata": {},
   "source": [
    "##### WOE ( Log Odds ) is Linear"
   ]
  },
  {
   "cell_type": "code",
   "execution_count": 139,
   "metadata": {},
   "outputs": [
    {
     "data": {
      "image/png": "[encoded data removed]",
      "text/plain": [
       "<Figure size 432x288 with 1 Axes>"
      ]
     },
     "metadata": {
      "needs_background": "light"
     },
     "output_type": "display_data"
    }
   ],
   "source": [
    "woe[woe.Feature == \"debtinc\"].WOE.plot()\n",
    "plt.show()"
   ]
  },
  {
   "cell_type": "markdown",
   "metadata": {},
   "source": [
    "#### Variable \"income\" does not validates the assumption"
   ]
  },
  {
   "cell_type": "markdown",
   "metadata": {},
   "source": [
    "##### WOE ( Log Odds ) is not Linear"
   ]
  },
  {
   "cell_type": "code",
   "execution_count": 140,
   "metadata": {},
   "outputs": [
    {
     "data": {
      "image/png": "[encoded data removed]",
      "text/plain": [
       "<Figure size 432x288 with 1 Axes>"
      ]
     },
     "metadata": {
      "needs_background": "light"
     },
     "output_type": "display_data"
    }
   ],
   "source": [
    "woe[woe.Feature == \"income\"].WOE.plot()\n",
    "plt.show()"
   ]
  },
  {
   "cell_type": "markdown",
   "metadata": {},
   "source": [
    "#### Checking assumption. No Multi Collinearity (i.e. feature are correlated with each other) in the features. "
   ]
  },
  {
   "cell_type": "markdown",
   "metadata": {},
   "source": [
    "##### Variance Inflation Factor is used to check the assumption."
   ]
  },
  {
   "cell_type": "code",
   "execution_count": 141,
   "metadata": {},
   "outputs": [],
   "source": [
    "vif = pd.DataFrame()\n",
    "vif[\"Features\"] = data_old.columns.difference([\"default\"])\n",
    "vif[\"vif\"] = [variance_inflation_factor(data_old.iloc[: , :-1].values , i) for i in range(vif.Features.shape[0])]"
   ]
  },
  {
   "cell_type": "code",
   "execution_count": 142,
   "metadata": {},
   "outputs": [],
   "source": [
    "vif = vif.sort_values(\"vif\")"
   ]
  },
  {
   "cell_type": "markdown",
   "metadata": {},
   "source": [
    "#### Variation Inflation Factor of some variable are above the cut off"
   ]
  },
  {
   "cell_type": "markdown",
   "metadata": {},
   "source": [
    "##### There is Multi Collinearity. This will make our Linear Model unstable."
   ]
  },
  {
   "cell_type": "code",
   "execution_count": 143,
   "metadata": {},
   "outputs": [
    {
     "data": {
      "text/html": [
       "<div>\n",
       "<style scoped>\n",
       "    .dataframe tbody tr th:only-of-type {\n",
       "        vertical-align: middle;\n",
       "    }\n",
       "\n",
       "    .dataframe tbody tr th {\n",
       "        vertical-align: top;\n",
       "    }\n",
       "\n",
       "    .dataframe thead th {\n",
       "        text-align: right;\n",
       "    }\n",
       "</style>\n",
       "<table border=\"1\" class=\"dataframe\">\n",
       "  <thead>\n",
       "    <tr style=\"text-align: right;\">\n",
       "      <th></th>\n",
       "      <th>Features</th>\n",
       "      <th>vif</th>\n",
       "    </tr>\n",
       "  </thead>\n",
       "  <tbody>\n",
       "    <tr>\n",
       "      <th>3</th>\n",
       "      <td>debtinc</td>\n",
       "      <td>3.587253</td>\n",
       "    </tr>\n",
       "    <tr>\n",
       "      <th>6</th>\n",
       "      <td>income</td>\n",
       "      <td>4.250900</td>\n",
       "    </tr>\n",
       "    <tr>\n",
       "      <th>1</th>\n",
       "      <td>age</td>\n",
       "      <td>5.135571</td>\n",
       "    </tr>\n",
       "    <tr>\n",
       "      <th>2</th>\n",
       "      <td>creddebt</td>\n",
       "      <td>6.108172</td>\n",
       "    </tr>\n",
       "    <tr>\n",
       "      <th>7</th>\n",
       "      <td>othdebt</td>\n",
       "      <td>7.886603</td>\n",
       "    </tr>\n",
       "    <tr>\n",
       "      <th>5</th>\n",
       "      <td>employ</td>\n",
       "      <td>10.439409</td>\n",
       "    </tr>\n",
       "    <tr>\n",
       "      <th>4</th>\n",
       "      <td>ed</td>\n",
       "      <td>13.666786</td>\n",
       "    </tr>\n",
       "    <tr>\n",
       "      <th>0</th>\n",
       "      <td>address</td>\n",
       "      <td>18.200828</td>\n",
       "    </tr>\n",
       "  </tbody>\n",
       "</table>\n",
       "</div>"
      ],
      "text/plain": [
       "   Features        vif\n",
       "3   debtinc   3.587253\n",
       "6    income   4.250900\n",
       "1       age   5.135571\n",
       "2  creddebt   6.108172\n",
       "7   othdebt   7.886603\n",
       "5    employ  10.439409\n",
       "4        ed  13.666786\n",
       "0   address  18.200828"
      ]
     },
     "execution_count": 143,
     "metadata": {},
     "output_type": "execute_result"
    }
   ],
   "source": [
    "vif"
   ]
  },
  {
   "cell_type": "markdown",
   "metadata": {},
   "source": [
    "#### Spliting the data into Train and Test"
   ]
  },
  {
   "cell_type": "code",
   "execution_count": 144,
   "metadata": {},
   "outputs": [],
   "source": [
    "train ,test = train_test_split(data_old, test_size = 0.3 ,random_state =42)"
   ]
  },
  {
   "cell_type": "markdown",
   "metadata": {},
   "source": [
    "#### Generating a formula for our model with all of our independent features"
   ]
  },
  {
   "cell_type": "code",
   "execution_count": 145,
   "metadata": {},
   "outputs": [],
   "source": [
    "model_formula = \"default ~ \" + \" + \".join(train[train.columns.difference([\"default\"])])"
   ]
  },
  {
   "cell_type": "code",
   "execution_count": 146,
   "metadata": {},
   "outputs": [
    {
     "data": {
      "text/plain": [
       "'default ~ address + age + creddebt + debtinc + ed + employ + income + othdebt'"
      ]
     },
     "execution_count": 146,
     "metadata": {},
     "output_type": "execute_result"
    }
   ],
   "source": [
    "model_formula"
   ]
  },
  {
   "cell_type": "code",
   "execution_count": 147,
   "metadata": {},
   "outputs": [],
   "source": [
    "all_models = pd.DataFrame()"
   ]
  },
  {
   "cell_type": "code",
   "execution_count": 148,
   "metadata": {},
   "outputs": [
    {
     "data": {
      "text/html": [
       "<div>\n",
       "<style scoped>\n",
       "    .dataframe tbody tr th:only-of-type {\n",
       "        vertical-align: middle;\n",
       "    }\n",
       "\n",
       "    .dataframe tbody tr th {\n",
       "        vertical-align: top;\n",
       "    }\n",
       "\n",
       "    .dataframe thead th {\n",
       "        text-align: right;\n",
       "    }\n",
       "</style>\n",
       "<table border=\"1\" class=\"dataframe\">\n",
       "  <thead>\n",
       "    <tr style=\"text-align: right;\">\n",
       "      <th></th>\n",
       "      <th>age</th>\n",
       "      <th>ed</th>\n",
       "      <th>employ</th>\n",
       "      <th>address</th>\n",
       "      <th>income</th>\n",
       "      <th>debtinc</th>\n",
       "      <th>creddebt</th>\n",
       "      <th>othdebt</th>\n",
       "      <th>default</th>\n",
       "    </tr>\n",
       "  </thead>\n",
       "  <tbody>\n",
       "    <tr>\n",
       "      <th>357</th>\n",
       "      <td>24</td>\n",
       "      <td>2</td>\n",
       "      <td>0</td>\n",
       "      <td>2.0</td>\n",
       "      <td>15.0</td>\n",
       "      <td>16.1</td>\n",
       "      <td>0.321195</td>\n",
       "      <td>2.093805</td>\n",
       "      <td>1.0</td>\n",
       "    </tr>\n",
       "    <tr>\n",
       "      <th>649</th>\n",
       "      <td>29</td>\n",
       "      <td>2</td>\n",
       "      <td>5</td>\n",
       "      <td>7.0</td>\n",
       "      <td>28.0</td>\n",
       "      <td>18.7</td>\n",
       "      <td>2.125816</td>\n",
       "      <td>3.110184</td>\n",
       "      <td>0.0</td>\n",
       "    </tr>\n",
       "    <tr>\n",
       "      <th>291</th>\n",
       "      <td>33</td>\n",
       "      <td>4</td>\n",
       "      <td>9</td>\n",
       "      <td>8.0</td>\n",
       "      <td>32.0</td>\n",
       "      <td>5.5</td>\n",
       "      <td>0.496320</td>\n",
       "      <td>1.263680</td>\n",
       "      <td>0.0</td>\n",
       "    </tr>\n",
       "    <tr>\n",
       "      <th>420</th>\n",
       "      <td>46</td>\n",
       "      <td>1</td>\n",
       "      <td>1</td>\n",
       "      <td>15.0</td>\n",
       "      <td>21.0</td>\n",
       "      <td>14.8</td>\n",
       "      <td>1.376844</td>\n",
       "      <td>1.731156</td>\n",
       "      <td>1.0</td>\n",
       "    </tr>\n",
       "    <tr>\n",
       "      <th>177</th>\n",
       "      <td>28</td>\n",
       "      <td>2</td>\n",
       "      <td>7</td>\n",
       "      <td>2.0</td>\n",
       "      <td>34.0</td>\n",
       "      <td>7.0</td>\n",
       "      <td>0.359380</td>\n",
       "      <td>2.020620</td>\n",
       "      <td>0.0</td>\n",
       "    </tr>\n",
       "    <tr>\n",
       "      <th>...</th>\n",
       "      <td>...</td>\n",
       "      <td>...</td>\n",
       "      <td>...</td>\n",
       "      <td>...</td>\n",
       "      <td>...</td>\n",
       "      <td>...</td>\n",
       "      <td>...</td>\n",
       "      <td>...</td>\n",
       "      <td>...</td>\n",
       "    </tr>\n",
       "    <tr>\n",
       "      <th>71</th>\n",
       "      <td>28</td>\n",
       "      <td>2</td>\n",
       "      <td>5</td>\n",
       "      <td>9.0</td>\n",
       "      <td>34.0</td>\n",
       "      <td>23.8</td>\n",
       "      <td>3.099236</td>\n",
       "      <td>4.992764</td>\n",
       "      <td>0.0</td>\n",
       "    </tr>\n",
       "    <tr>\n",
       "      <th>106</th>\n",
       "      <td>53</td>\n",
       "      <td>1</td>\n",
       "      <td>9</td>\n",
       "      <td>18.0</td>\n",
       "      <td>50.0</td>\n",
       "      <td>11.2</td>\n",
       "      <td>2.016000</td>\n",
       "      <td>3.584000</td>\n",
       "      <td>1.0</td>\n",
       "    </tr>\n",
       "    <tr>\n",
       "      <th>270</th>\n",
       "      <td>51</td>\n",
       "      <td>2</td>\n",
       "      <td>22</td>\n",
       "      <td>23.0</td>\n",
       "      <td>120.0</td>\n",
       "      <td>7.6</td>\n",
       "      <td>4.140480</td>\n",
       "      <td>4.979520</td>\n",
       "      <td>0.0</td>\n",
       "    </tr>\n",
       "    <tr>\n",
       "      <th>435</th>\n",
       "      <td>24</td>\n",
       "      <td>2</td>\n",
       "      <td>1</td>\n",
       "      <td>2.0</td>\n",
       "      <td>42.0</td>\n",
       "      <td>5.7</td>\n",
       "      <td>0.837900</td>\n",
       "      <td>1.556100</td>\n",
       "      <td>0.0</td>\n",
       "    </tr>\n",
       "    <tr>\n",
       "      <th>102</th>\n",
       "      <td>33</td>\n",
       "      <td>1</td>\n",
       "      <td>8</td>\n",
       "      <td>7.0</td>\n",
       "      <td>27.0</td>\n",
       "      <td>5.8</td>\n",
       "      <td>0.776736</td>\n",
       "      <td>0.789264</td>\n",
       "      <td>0.0</td>\n",
       "    </tr>\n",
       "  </tbody>\n",
       "</table>\n",
       "<p>490 rows × 9 columns</p>\n",
       "</div>"
      ],
      "text/plain": [
       "     age  ed  employ  address  income  debtinc  creddebt   othdebt  default\n",
       "357   24   2       0      2.0    15.0     16.1  0.321195  2.093805      1.0\n",
       "649   29   2       5      7.0    28.0     18.7  2.125816  3.110184      0.0\n",
       "291   33   4       9      8.0    32.0      5.5  0.496320  1.263680      0.0\n",
       "420   46   1       1     15.0    21.0     14.8  1.376844  1.731156      1.0\n",
       "177   28   2       7      2.0    34.0      7.0  0.359380  2.020620      0.0\n",
       "..   ...  ..     ...      ...     ...      ...       ...       ...      ...\n",
       "71    28   2       5      9.0    34.0     23.8  3.099236  4.992764      0.0\n",
       "106   53   1       9     18.0    50.0     11.2  2.016000  3.584000      1.0\n",
       "270   51   2      22     23.0   120.0      7.6  4.140480  4.979520      0.0\n",
       "435   24   2       1      2.0    42.0      5.7  0.837900  1.556100      0.0\n",
       "102   33   1       8      7.0    27.0      5.8  0.776736  0.789264      0.0\n",
       "\n",
       "[490 rows x 9 columns]"
      ]
     },
     "execution_count": 148,
     "metadata": {},
     "output_type": "execute_result"
    }
   ],
   "source": [
    "train"
   ]
  },
  {
   "cell_type": "markdown",
   "metadata": {},
   "source": [
    "#### Creating a Logistic Model on all of our features for further analysis."
   ]
  },
  {
   "cell_type": "code",
   "execution_count": 149,
   "metadata": {
    "scrolled": true
   },
   "outputs": [
    {
     "name": "stdout",
     "output_type": "stream",
     "text": [
      "Optimization terminated successfully.\n",
      "         Current function value: 0.425337\n",
      "         Iterations 7\n"
     ]
    }
   ],
   "source": [
    "LM1 = logit(model_formula , train).fit()"
   ]
  },
  {
   "cell_type": "markdown",
   "metadata": {},
   "source": [
    "##### Many variable are in significant according to the P value. (Confidence Interval :- 0.95) "
   ]
  },
  {
   "cell_type": "code",
   "execution_count": 150,
   "metadata": {},
   "outputs": [
    {
     "name": "stdout",
     "output_type": "stream",
     "text": [
      "                           Logit Regression Results                           \n",
      "==============================================================================\n",
      "Dep. Variable:                default   No. Observations:                  490\n",
      "Model:                          Logit   Df Residuals:                      481\n",
      "Method:                           MLE   Df Model:                            8\n",
      "Date:                Sun, 08 Nov 2020   Pseudo R-squ.:                  0.2750\n",
      "Time:                        14:31:53   Log-Likelihood:                -208.42\n",
      "converged:                       True   LL-Null:                       -287.47\n",
      "Covariance Type:            nonrobust   LLR p-value:                 3.962e-30\n",
      "==============================================================================\n",
      "                 coef    std err          z      P>|z|      [0.025      0.975]\n",
      "------------------------------------------------------------------------------\n",
      "Intercept     -1.4125      0.738     -1.913      0.056      -2.860       0.035\n",
      "address       -0.0855      0.026     -3.314      0.001      -0.136      -0.035\n",
      "age            0.0385      0.020      1.908      0.056      -0.001       0.078\n",
      "creddebt       0.6331      0.139      4.559      0.000       0.361       0.905\n",
      "debtinc        0.0384      0.040      0.971      0.331      -0.039       0.116\n",
      "ed             0.0038      0.142      0.027      0.979      -0.275       0.282\n",
      "employ        -0.2649      0.040     -6.686      0.000      -0.343      -0.187\n",
      "income        -0.0075      0.012     -0.633      0.527      -0.031       0.016\n",
      "othdebt        0.1164      0.105      1.114      0.265      -0.088       0.321\n",
      "==============================================================================\n"
     ]
    }
   ],
   "source": [
    "print(LM1.summary())"
   ]
  },
  {
   "cell_type": "markdown",
   "metadata": {},
   "source": [
    "#### For Feature Selection Somers'D is used. "
   ]
  },
  {
   "cell_type": "markdown",
   "metadata": {},
   "source": [
    "##### Somers'D is the information that a particular variable adds, other words it indicates how better it is than a random classifier if only this variable is used for modelling."
   ]
  },
  {
   "cell_type": "code",
   "execution_count": 151,
   "metadata": {},
   "outputs": [
    {
     "name": "stdout",
     "output_type": "stream",
     "text": [
      "Optimization terminated successfully.\n",
      "         Current function value: 0.575906\n",
      "         Iterations 5\n",
      "Optimization terminated successfully.\n",
      "         Current function value: 0.580602\n",
      "         Iterations 5\n",
      "Optimization terminated successfully.\n",
      "         Current function value: 0.564040\n",
      "         Iterations 5\n",
      "Optimization terminated successfully.\n",
      "         Current function value: 0.524565\n",
      "         Iterations 6\n",
      "Optimization terminated successfully.\n",
      "         Current function value: 0.580706\n",
      "         Iterations 5\n",
      "Optimization terminated successfully.\n",
      "         Current function value: 0.536440\n",
      "         Iterations 6\n",
      "Optimization terminated successfully.\n",
      "         Current function value: 0.582459\n",
      "         Iterations 5\n",
      "Optimization terminated successfully.\n",
      "         Current function value: 0.577694\n",
      "         Iterations 5\n"
     ]
    },
    {
     "data": {
      "text/html": [
       "<div>\n",
       "<style scoped>\n",
       "    .dataframe tbody tr th:only-of-type {\n",
       "        vertical-align: middle;\n",
       "    }\n",
       "\n",
       "    .dataframe tbody tr th {\n",
       "        vertical-align: top;\n",
       "    }\n",
       "\n",
       "    .dataframe thead th {\n",
       "        text-align: right;\n",
       "    }\n",
       "</style>\n",
       "<table border=\"1\" class=\"dataframe\">\n",
       "  <thead>\n",
       "    <tr style=\"text-align: right;\">\n",
       "      <th></th>\n",
       "      <th>Feature Name</th>\n",
       "      <th>Somers'D</th>\n",
       "    </tr>\n",
       "  </thead>\n",
       "  <tbody>\n",
       "    <tr>\n",
       "      <th>0</th>\n",
       "      <td>debtinc</td>\n",
       "      <td>0.429146</td>\n",
       "    </tr>\n",
       "    <tr>\n",
       "      <th>0</th>\n",
       "      <td>employ</td>\n",
       "      <td>0.415395</td>\n",
       "    </tr>\n",
       "    <tr>\n",
       "      <th>0</th>\n",
       "      <td>creddebt</td>\n",
       "      <td>0.22757</td>\n",
       "    </tr>\n",
       "    <tr>\n",
       "      <th>0</th>\n",
       "      <td>income</td>\n",
       "      <td>0.224489</td>\n",
       "    </tr>\n",
       "    <tr>\n",
       "      <th>0</th>\n",
       "      <td>address</td>\n",
       "      <td>0.19751</td>\n",
       "    </tr>\n",
       "    <tr>\n",
       "      <th>0</th>\n",
       "      <td>age</td>\n",
       "      <td>0.169001</td>\n",
       "    </tr>\n",
       "    <tr>\n",
       "      <th>0</th>\n",
       "      <td>othdebt</td>\n",
       "      <td>0.144579</td>\n",
       "    </tr>\n",
       "    <tr>\n",
       "      <th>0</th>\n",
       "      <td>ed</td>\n",
       "      <td>0.14177</td>\n",
       "    </tr>\n",
       "  </tbody>\n",
       "</table>\n",
       "</div>"
      ],
      "text/plain": [
       "  Feature Name  Somers'D\n",
       "0      debtinc  0.429146\n",
       "0       employ  0.415395\n",
       "0     creddebt   0.22757\n",
       "0       income  0.224489\n",
       "0      address   0.19751\n",
       "0          age  0.169001\n",
       "0      othdebt  0.144579\n",
       "0           ed   0.14177"
      ]
     },
     "execution_count": 151,
     "metadata": {},
     "output_type": "execute_result"
    }
   ],
   "source": [
    "somers_d = pd.DataFrame()\n",
    "for feature in train.columns.difference([\"default\"]):\n",
    "    model = logit( \"default ~ \" + str(feature), train).fit()\n",
    "    somersd = 2 * roc_auc_score(train.default , model.predict()) -1\n",
    "    temp = pd.DataFrame([feature, somersd]).T\n",
    "    temp.columns = [\"Feature Name\", \"Somers'D\"]\n",
    "    somers_d = pd.concat([somers_d , temp] , axis= 0 )\n",
    "somers_d.sort_values(\"Somers'D\" ,ascending= False)"
   ]
  },
  {
   "cell_type": "markdown",
   "metadata": {},
   "source": [
    "##### Now with the help of Somers'D metric a Feature Selection can be done"
   ]
  },
  {
   "cell_type": "markdown",
   "metadata": {},
   "source": [
    "#### Heat Map of Correlation Matrix of the data also indicates Multi Collinearity"
   ]
  },
  {
   "cell_type": "code",
   "execution_count": 152,
   "metadata": {},
   "outputs": [
    {
     "data": {
      "image/png": "[encoded data removed]",
      "text/plain": [
       "<Figure size 720x504 with 2 Axes>"
      ]
     },
     "metadata": {
      "needs_background": "light"
     },
     "output_type": "display_data"
    }
   ],
   "source": [
    "plt.figure(figsize=(10,7))\n",
    "sns.heatmap(data_old.corr(), annot= True)\n",
    "plt.show()"
   ]
  },
  {
   "cell_type": "markdown",
   "metadata": {},
   "source": [
    "#### Droping variable with the help of Somers'D, Variation Inflation Factor and Model Summary."
   ]
  },
  {
   "cell_type": "code",
   "execution_count": 153,
   "metadata": {},
   "outputs": [],
   "source": [
    "train_reduced = train.drop([\"othdebt\", \"income\", \"ed\"], axis= 1 )"
   ]
  },
  {
   "cell_type": "code",
   "execution_count": 154,
   "metadata": {},
   "outputs": [],
   "source": [
    "model_formula = \"default ~ \" + \" + \".join(train_reduced.columns.difference([\"default\"]))\n",
    "y, X  = dmatrices(model_formula , train_reduced, return_type= \"dataframe\")"
   ]
  },
  {
   "cell_type": "markdown",
   "metadata": {},
   "source": [
    "#### Checking Variation Inflation Factor for any Multi Collinearity in the data now"
   ]
  },
  {
   "cell_type": "code",
   "execution_count": 155,
   "metadata": {},
   "outputs": [],
   "source": [
    "vif_table = pd.DataFrame()\n",
    "vif_table[\"Features\"] = X.columns\n",
    "vif_table[\"VIF\"] = [variance_inflation_factor( X.values , i) for i in range(X.shape[1])]"
   ]
  },
  {
   "cell_type": "code",
   "execution_count": 156,
   "metadata": {},
   "outputs": [
    {
     "data": {
      "text/html": [
       "<div>\n",
       "<style scoped>\n",
       "    .dataframe tbody tr th:only-of-type {\n",
       "        vertical-align: middle;\n",
       "    }\n",
       "\n",
       "    .dataframe tbody tr th {\n",
       "        vertical-align: top;\n",
       "    }\n",
       "\n",
       "    .dataframe thead th {\n",
       "        text-align: right;\n",
       "    }\n",
       "</style>\n",
       "<table border=\"1\" class=\"dataframe\">\n",
       "  <thead>\n",
       "    <tr style=\"text-align: right;\">\n",
       "      <th></th>\n",
       "      <th>Features</th>\n",
       "      <th>VIF</th>\n",
       "    </tr>\n",
       "  </thead>\n",
       "  <tbody>\n",
       "    <tr>\n",
       "      <th>0</th>\n",
       "      <td>Intercept</td>\n",
       "      <td>27.202939</td>\n",
       "    </tr>\n",
       "    <tr>\n",
       "      <th>1</th>\n",
       "      <td>address</td>\n",
       "      <td>1.578602</td>\n",
       "    </tr>\n",
       "    <tr>\n",
       "      <th>2</th>\n",
       "      <td>age</td>\n",
       "      <td>2.038613</td>\n",
       "    </tr>\n",
       "    <tr>\n",
       "      <th>3</th>\n",
       "      <td>creddebt</td>\n",
       "      <td>1.811997</td>\n",
       "    </tr>\n",
       "    <tr>\n",
       "      <th>4</th>\n",
       "      <td>debtinc</td>\n",
       "      <td>1.507148</td>\n",
       "    </tr>\n",
       "    <tr>\n",
       "      <th>5</th>\n",
       "      <td>employ</td>\n",
       "      <td>1.699867</td>\n",
       "    </tr>\n",
       "  </tbody>\n",
       "</table>\n",
       "</div>"
      ],
      "text/plain": [
       "    Features        VIF\n",
       "0  Intercept  27.202939\n",
       "1    address   1.578602\n",
       "2        age   2.038613\n",
       "3   creddebt   1.811997\n",
       "4    debtinc   1.507148\n",
       "5     employ   1.699867"
      ]
     },
     "execution_count": 156,
     "metadata": {},
     "output_type": "execute_result"
    }
   ],
   "source": [
    "vif_table"
   ]
  },
  {
   "cell_type": "markdown",
   "metadata": {},
   "source": [
    "#### Multi Collinearity Assumption Satisfied"
   ]
  },
  {
   "cell_type": "markdown",
   "metadata": {},
   "source": [
    "#### Now again checking the Feature Importance by the help of Somers'D"
   ]
  },
  {
   "cell_type": "code",
   "execution_count": 157,
   "metadata": {},
   "outputs": [
    {
     "name": "stdout",
     "output_type": "stream",
     "text": [
      "Optimization terminated successfully.\n",
      "         Current function value: 0.575906\n",
      "         Iterations 5\n",
      "Optimization terminated successfully.\n",
      "         Current function value: 0.580602\n",
      "         Iterations 5\n",
      "Optimization terminated successfully.\n",
      "         Current function value: 0.564040\n",
      "         Iterations 5\n",
      "Optimization terminated successfully.\n",
      "         Current function value: 0.524565\n",
      "         Iterations 6\n",
      "Optimization terminated successfully.\n",
      "         Current function value: 0.536440\n",
      "         Iterations 6\n"
     ]
    },
    {
     "data": {
      "text/html": [
       "<div>\n",
       "<style scoped>\n",
       "    .dataframe tbody tr th:only-of-type {\n",
       "        vertical-align: middle;\n",
       "    }\n",
       "\n",
       "    .dataframe tbody tr th {\n",
       "        vertical-align: top;\n",
       "    }\n",
       "\n",
       "    .dataframe thead th {\n",
       "        text-align: right;\n",
       "    }\n",
       "</style>\n",
       "<table border=\"1\" class=\"dataframe\">\n",
       "  <thead>\n",
       "    <tr style=\"text-align: right;\">\n",
       "      <th></th>\n",
       "      <th>Feature Name</th>\n",
       "      <th>Somers'D</th>\n",
       "    </tr>\n",
       "  </thead>\n",
       "  <tbody>\n",
       "    <tr>\n",
       "      <th>0</th>\n",
       "      <td>debtinc</td>\n",
       "      <td>0.429146</td>\n",
       "    </tr>\n",
       "    <tr>\n",
       "      <th>0</th>\n",
       "      <td>employ</td>\n",
       "      <td>0.415395</td>\n",
       "    </tr>\n",
       "    <tr>\n",
       "      <th>0</th>\n",
       "      <td>creddebt</td>\n",
       "      <td>0.22757</td>\n",
       "    </tr>\n",
       "    <tr>\n",
       "      <th>0</th>\n",
       "      <td>address</td>\n",
       "      <td>0.19751</td>\n",
       "    </tr>\n",
       "    <tr>\n",
       "      <th>0</th>\n",
       "      <td>age</td>\n",
       "      <td>0.169001</td>\n",
       "    </tr>\n",
       "  </tbody>\n",
       "</table>\n",
       "</div>"
      ],
      "text/plain": [
       "  Feature Name  Somers'D\n",
       "0      debtinc  0.429146\n",
       "0       employ  0.415395\n",
       "0     creddebt   0.22757\n",
       "0      address   0.19751\n",
       "0          age  0.169001"
      ]
     },
     "execution_count": 157,
     "metadata": {},
     "output_type": "execute_result"
    }
   ],
   "source": [
    "somers_d = pd.DataFrame()\n",
    "for feature in train_reduced.columns.difference([\"default\"]):\n",
    "    model = logit( \"default ~ \" + str(feature), train).fit()\n",
    "    somersd = 2 * roc_auc_score(train.default , model.predict()) -1\n",
    "    temp = pd.DataFrame([feature, somersd]).T\n",
    "    temp.columns = [\"Feature Name\", \"Somers'D\"]\n",
    "    somers_d = pd.concat([somers_d , temp] , axis= 0 )\n",
    "somers_d.sort_values(\"Somers'D\" ,ascending= False)"
   ]
  },
  {
   "cell_type": "markdown",
   "metadata": {},
   "source": [
    "## Building a Logistic Model"
   ]
  },
  {
   "cell_type": "code",
   "execution_count": 158,
   "metadata": {},
   "outputs": [
    {
     "name": "stdout",
     "output_type": "stream",
     "text": [
      "Optimization terminated successfully.\n",
      "         Current function value: 0.426723\n",
      "         Iterations 7\n",
      "                           Logit Regression Results                           \n",
      "==============================================================================\n",
      "Dep. Variable:                default   No. Observations:                  490\n",
      "Model:                          Logit   Df Residuals:                      484\n",
      "Method:                           MLE   Df Model:                            5\n",
      "Date:                Sun, 08 Nov 2020   Pseudo R-squ.:                  0.2726\n",
      "Time:                        14:31:57   Log-Likelihood:                -209.09\n",
      "converged:                       True   LL-Null:                       -287.47\n",
      "Covariance Type:            nonrobust   LLR p-value:                 4.859e-32\n",
      "==============================================================================\n",
      "                 coef    std err          z      P>|z|      [0.025      0.975]\n",
      "------------------------------------------------------------------------------\n",
      "Intercept     -1.7589      0.584     -3.014      0.003      -2.903      -0.615\n",
      "address       -0.0841      0.025     -3.314      0.001      -0.134      -0.034\n",
      "age            0.0391      0.020      1.947      0.052      -0.000       0.078\n",
      "creddebt       0.5960      0.103      5.798      0.000       0.395       0.798\n",
      "debtinc        0.0711      0.021      3.333      0.001       0.029       0.113\n",
      "employ        -0.2533      0.035     -7.309      0.000      -0.321      -0.185\n",
      "==============================================================================\n"
     ]
    }
   ],
   "source": [
    "model_formula = \"default ~ \" + \" + \".join(train_reduced.columns.difference([\"default\"]))\n",
    "my_model = logit(model_formula , train_reduced).fit()\n",
    "print(my_model.summary())"
   ]
  },
  {
   "cell_type": "markdown",
   "metadata": {},
   "source": [
    "##### All the variable are significant based upon the P value. (Confidance Interval:- 0.95)"
   ]
  },
  {
   "cell_type": "markdown",
   "metadata": {},
   "source": [
    "## Validating the Model"
   ]
  },
  {
   "cell_type": "code",
   "execution_count": 159,
   "metadata": {},
   "outputs": [],
   "source": [
    "train_p = pd.DataFrame()\n",
    "train_p[\"prediction_percentage\"] = my_model.predict( train_reduced.iloc[:,:-1] )\n",
    "train_p[\"true_values\"] = train_reduced.default"
   ]
  },
  {
   "cell_type": "markdown",
   "metadata": {},
   "source": [
    "#### Confusion Matrix "
   ]
  },
  {
   "cell_type": "markdown",
   "metadata": {},
   "source": [
    "##### On 0.5 Cut off i.e. probability > 0.5 ( predict label 1 ) and probability < 0.5 ( predict label 0 )"
   ]
  },
  {
   "cell_type": "code",
   "execution_count": 160,
   "metadata": {},
   "outputs": [
    {
     "name": "stderr",
     "output_type": "stream",
     "text": [
      "D:\\Data_Science\\lib\\site-packages\\sklearn\\utils\\validation.py:68: FutureWarning: Pass labels=[1, 0] as keyword args. From version 0.25 passing these as positional arguments will result in an error\n",
      "  warnings.warn(\"Pass {} as keyword args. From version 0.25 \"\n"
     ]
    },
    {
     "data": {
      "text/plain": [
       "Text(0.5, 15.0, 'Predicted Label')"
      ]
     },
     "execution_count": 160,
     "metadata": {},
     "output_type": "execute_result"
    },
    {
     "data": {
      "image/png": "[encoded data removed]",
      "text/plain": [
       "<Figure size 432x288 with 2 Axes>"
      ]
     },
     "metadata": {
      "needs_background": "light"
     },
     "output_type": "display_data"
    }
   ],
   "source": [
    "sns.heatmap((confusion_matrix(train_p.true_values ,train_p.prediction_percentage > 0.50, [1,0]) / train_p.shape[0]) * 100,\n",
    "            fmt= \"0.3g\" ,annot= True, xticklabels=[\"Default\", \"No-Default\"] ,yticklabels=[\"Default\" ,\"No-Default\" ])\n",
    "plt.ylabel(\"True Label\")\n",
    "plt.xlabel(\"Predicted Label\")"
   ]
  },
  {
   "cell_type": "markdown",
   "metadata": {},
   "source": [
    "#### Need to find best cut off with the help of different metric "
   ]
  },
  {
   "cell_type": "markdown",
   "metadata": {},
   "source": [
    "- Senstivity / Recall \n",
    "- Specificity\n",
    "- Precision"
   ]
  },
  {
   "cell_type": "code",
   "execution_count": 161,
   "metadata": {},
   "outputs": [],
   "source": [
    "roc_cut_off_df = pd.DataFrame()\n",
    "for cut_off in np.linspace(0 ,1 ,100):\n",
    "    train_p[\"predicted_values\"] = (train_p.prediction_percentage > cut_off).astype(\"float\")\n",
    "    train_p[\"tp\"] = confusion_matrix(train_p.true_values ,train_p.prediction_percentage > cut_off, [1,0])[0 ,0]\n",
    "    train_p[\"tn\"] = confusion_matrix(train_p.true_values ,train_p.prediction_percentage > cut_off, [1,0])[1 ,1]\n",
    "    train_p[\"fp\"] = confusion_matrix(train_p.true_values ,train_p.prediction_percentage > cut_off, [1,0])[1 ,0]\n",
    "    train_p[\"fn\"] = confusion_matrix(train_p.true_values ,train_p.prediction_percentage > cut_off, [1,0])[0 ,1]\n",
    "    senstivity = train_p.tp.sum() / (train_p.tp.sum() + train_p.fn.sum())\n",
    "\n",
    "    specificity = train_p.tn.sum() / (train_p .tn.sum() + train_p.fp.sum())\n",
    "    accuracy = (train_p.tp.sum() + train_p.tn.sum()) / ( train_p.tp.sum() + train_p.tn.sum() + train_p.fp.sum() + train_p.fn.sum())\n",
    "\n",
    "    \n",
    "    roc_cut_off_obs = pd.DataFrame([cut_off , senstivity, specificity , accuracy]).T\n",
    "    roc_cut_off_obs.columns = [\"Cut Off\", \"senstivity\" ,\"specificity\", \"accuracy\"]\n",
    "    \n",
    "    roc_cut_off_df = pd.concat([roc_cut_off_df , roc_cut_off_obs])"
   ]
  },
  {
   "cell_type": "markdown",
   "metadata": {},
   "source": [
    "#### Now a cut off is needed that provides high True Positive Rate ( Recall ) and Low False Negative Rate ( 1 - Specificity )"
   ]
  },
  {
   "cell_type": "markdown",
   "metadata": {},
   "source": [
    "##### Recall ( High ) and 1 - Specificity ( Low ) ->  Recall ( High ) and Specificity ( High )"
   ]
  },
  {
   "cell_type": "markdown",
   "metadata": {},
   "source": [
    "##### So we want to maximize ( Senstivity + Specificity )"
   ]
  },
  {
   "cell_type": "code",
   "execution_count": 162,
   "metadata": {},
   "outputs": [],
   "source": [
    "roc_cut_off_df[\"Sens+Spec\"] = roc_cut_off_df.senstivity + roc_cut_off_df.specificity"
   ]
  },
  {
   "cell_type": "code",
   "execution_count": 163,
   "metadata": {},
   "outputs": [
    {
     "data": {
      "text/html": [
       "<div>\n",
       "<style scoped>\n",
       "    .dataframe tbody tr th:only-of-type {\n",
       "        vertical-align: middle;\n",
       "    }\n",
       "\n",
       "    .dataframe tbody tr th {\n",
       "        vertical-align: top;\n",
       "    }\n",
       "\n",
       "    .dataframe thead th {\n",
       "        text-align: right;\n",
       "    }\n",
       "</style>\n",
       "<table border=\"1\" class=\"dataframe\">\n",
       "  <thead>\n",
       "    <tr style=\"text-align: right;\">\n",
       "      <th></th>\n",
       "      <th>Cut Off</th>\n",
       "      <th>senstivity</th>\n",
       "      <th>specificity</th>\n",
       "      <th>accuracy</th>\n",
       "      <th>Sens+Spec</th>\n",
       "    </tr>\n",
       "  </thead>\n",
       "  <tbody>\n",
       "    <tr>\n",
       "      <th>0</th>\n",
       "      <td>0.000000</td>\n",
       "      <td>1.000000</td>\n",
       "      <td>0.000000</td>\n",
       "      <td>0.273469</td>\n",
       "      <td>1.000000</td>\n",
       "    </tr>\n",
       "    <tr>\n",
       "      <th>0</th>\n",
       "      <td>0.010101</td>\n",
       "      <td>1.000000</td>\n",
       "      <td>0.106742</td>\n",
       "      <td>0.351020</td>\n",
       "      <td>1.106742</td>\n",
       "    </tr>\n",
       "    <tr>\n",
       "      <th>0</th>\n",
       "      <td>0.020202</td>\n",
       "      <td>1.000000</td>\n",
       "      <td>0.168539</td>\n",
       "      <td>0.395918</td>\n",
       "      <td>1.168539</td>\n",
       "    </tr>\n",
       "    <tr>\n",
       "      <th>0</th>\n",
       "      <td>0.030303</td>\n",
       "      <td>0.992537</td>\n",
       "      <td>0.227528</td>\n",
       "      <td>0.436735</td>\n",
       "      <td>1.220065</td>\n",
       "    </tr>\n",
       "    <tr>\n",
       "      <th>0</th>\n",
       "      <td>0.040404</td>\n",
       "      <td>0.985075</td>\n",
       "      <td>0.266854</td>\n",
       "      <td>0.463265</td>\n",
       "      <td>1.251929</td>\n",
       "    </tr>\n",
       "    <tr>\n",
       "      <th>...</th>\n",
       "      <td>...</td>\n",
       "      <td>...</td>\n",
       "      <td>...</td>\n",
       "      <td>...</td>\n",
       "      <td>...</td>\n",
       "    </tr>\n",
       "    <tr>\n",
       "      <th>0</th>\n",
       "      <td>0.959596</td>\n",
       "      <td>0.022388</td>\n",
       "      <td>1.000000</td>\n",
       "      <td>0.732653</td>\n",
       "      <td>1.022388</td>\n",
       "    </tr>\n",
       "    <tr>\n",
       "      <th>0</th>\n",
       "      <td>0.969697</td>\n",
       "      <td>0.014925</td>\n",
       "      <td>1.000000</td>\n",
       "      <td>0.730612</td>\n",
       "      <td>1.014925</td>\n",
       "    </tr>\n",
       "    <tr>\n",
       "      <th>0</th>\n",
       "      <td>0.979798</td>\n",
       "      <td>0.007463</td>\n",
       "      <td>1.000000</td>\n",
       "      <td>0.728571</td>\n",
       "      <td>1.007463</td>\n",
       "    </tr>\n",
       "    <tr>\n",
       "      <th>0</th>\n",
       "      <td>0.989899</td>\n",
       "      <td>0.000000</td>\n",
       "      <td>1.000000</td>\n",
       "      <td>0.726531</td>\n",
       "      <td>1.000000</td>\n",
       "    </tr>\n",
       "    <tr>\n",
       "      <th>0</th>\n",
       "      <td>1.000000</td>\n",
       "      <td>0.000000</td>\n",
       "      <td>1.000000</td>\n",
       "      <td>0.726531</td>\n",
       "      <td>1.000000</td>\n",
       "    </tr>\n",
       "  </tbody>\n",
       "</table>\n",
       "<p>100 rows × 5 columns</p>\n",
       "</div>"
      ],
      "text/plain": [
       "     Cut Off  senstivity  specificity  accuracy  Sens+Spec\n",
       "0   0.000000    1.000000     0.000000  0.273469   1.000000\n",
       "0   0.010101    1.000000     0.106742  0.351020   1.106742\n",
       "0   0.020202    1.000000     0.168539  0.395918   1.168539\n",
       "0   0.030303    0.992537     0.227528  0.436735   1.220065\n",
       "0   0.040404    0.985075     0.266854  0.463265   1.251929\n",
       "..       ...         ...          ...       ...        ...\n",
       "0   0.959596    0.022388     1.000000  0.732653   1.022388\n",
       "0   0.969697    0.014925     1.000000  0.730612   1.014925\n",
       "0   0.979798    0.007463     1.000000  0.728571   1.007463\n",
       "0   0.989899    0.000000     1.000000  0.726531   1.000000\n",
       "0   1.000000    0.000000     1.000000  0.726531   1.000000\n",
       "\n",
       "[100 rows x 5 columns]"
      ]
     },
     "execution_count": 163,
     "metadata": {},
     "output_type": "execute_result"
    }
   ],
   "source": [
    "roc_cut_off_df"
   ]
  },
  {
   "cell_type": "code",
   "execution_count": 164,
   "metadata": {},
   "outputs": [],
   "source": [
    "best_accuracy = roc_cut_off_df[roc_cut_off_df[\"Sens+Spec\"] == roc_cut_off_df[\"Sens+Spec\"].max()]"
   ]
  },
  {
   "cell_type": "code",
   "execution_count": 165,
   "metadata": {},
   "outputs": [
    {
     "data": {
      "text/html": [
       "<div>\n",
       "<style scoped>\n",
       "    .dataframe tbody tr th:only-of-type {\n",
       "        vertical-align: middle;\n",
       "    }\n",
       "\n",
       "    .dataframe tbody tr th {\n",
       "        vertical-align: top;\n",
       "    }\n",
       "\n",
       "    .dataframe thead th {\n",
       "        text-align: right;\n",
       "    }\n",
       "</style>\n",
       "<table border=\"1\" class=\"dataframe\">\n",
       "  <thead>\n",
       "    <tr style=\"text-align: right;\">\n",
       "      <th></th>\n",
       "      <th>Cut Off</th>\n",
       "      <th>senstivity</th>\n",
       "      <th>specificity</th>\n",
       "      <th>accuracy</th>\n",
       "      <th>Sens+Spec</th>\n",
       "    </tr>\n",
       "  </thead>\n",
       "  <tbody>\n",
       "    <tr>\n",
       "      <th>0</th>\n",
       "      <td>0.343434</td>\n",
       "      <td>0.738806</td>\n",
       "      <td>0.789326</td>\n",
       "      <td>0.77551</td>\n",
       "      <td>1.528132</td>\n",
       "    </tr>\n",
       "  </tbody>\n",
       "</table>\n",
       "</div>"
      ],
      "text/plain": [
       "    Cut Off  senstivity  specificity  accuracy  Sens+Spec\n",
       "0  0.343434    0.738806     0.789326   0.77551   1.528132"
      ]
     },
     "execution_count": 165,
     "metadata": {},
     "output_type": "execute_result"
    }
   ],
   "source": [
    "best_accuracy"
   ]
  },
  {
   "cell_type": "code",
   "execution_count": 166,
   "metadata": {},
   "outputs": [
    {
     "data": {
      "text/plain": [
       "0.3434343434343435"
      ]
     },
     "execution_count": 166,
     "metadata": {},
     "output_type": "execute_result"
    }
   ],
   "source": [
    "best_accuracy[\"Cut Off\"].to_list()[0]"
   ]
  },
  {
   "cell_type": "markdown",
   "metadata": {},
   "source": [
    "#### Area under the ROC Curve is used to validate the model."
   ]
  },
  {
   "cell_type": "code",
   "execution_count": 167,
   "metadata": {},
   "outputs": [
    {
     "data": {
      "text/plain": [
       "0.8379800436022138"
      ]
     },
     "execution_count": 167,
     "metadata": {},
     "output_type": "execute_result"
    }
   ],
   "source": [
    "roc_auc_score(train_p.true_values ,train_p.prediction_percentage)"
   ]
  },
  {
   "cell_type": "markdown",
   "metadata": {},
   "source": [
    "#### Representation of ROC curve and the cut off having maximum ( Senstivity + Specificity )"
   ]
  },
  {
   "cell_type": "code",
   "execution_count": 172,
   "metadata": {
    "scrolled": true
   },
   "outputs": [
    {
     "data": {
      "image/png": "[encoded data removed]",
      "text/plain": [
       "<Figure size 432x288 with 1 Axes>"
      ]
     },
     "metadata": {
      "needs_background": "light"
     },
     "output_type": "display_data"
    }
   ],
   "source": [
    "fpr , tpr , cut_off= roc_curve(train_p.true_values , train_p.prediction_percentage)\n",
    "plt.plot(fpr ,tpr ,label = f\"ROC curve | area -> {round(roc_auc_score(train_p.true_values ,train_p.prediction_percentage), 2)}\")\n",
    "plt.plot(1 - best_accuracy.specificity ,best_accuracy.senstivity,'ro') \n",
    "plt.plot([0 , 1], [0 , 1], \"k--\")\n",
    "plt.xlabel(\"False Postive Rate (FPR)\")\n",
    "plt.ylabel(\"True Postive Rate (TPR)\")\n",
    "plt.xlim([0.0 ,1.0])\n",
    "plt.ylim([0.0 ,1.0])\n",
    "plt.legend(loc = 4)\n",
    "plt.show()"
   ]
  },
  {
   "cell_type": "code",
   "execution_count": 169,
   "metadata": {},
   "outputs": [],
   "source": [
    "test_predict = my_model.predict(test.iloc[: , :-1])"
   ]
  },
  {
   "cell_type": "code",
   "execution_count": 110,
   "metadata": {},
   "outputs": [
    {
     "data": {
      "text/plain": [
       "0.819047619047619"
      ]
     },
     "execution_count": 110,
     "metadata": {},
     "output_type": "execute_result"
    }
   ],
   "source": [
    "accuracy_score(test.default , test_predict > 0.3434)"
   ]
  },
  {
   "cell_type": "code",
   "execution_count": 115,
   "metadata": {},
   "outputs": [],
   "source": [
    "test_p = test_predict"
   ]
  },
  {
   "cell_type": "code",
   "execution_count": 116,
   "metadata": {},
   "outputs": [],
   "source": [
    "test_p = pd.concat([test.default, test_p], axis= 1)"
   ]
  },
  {
   "cell_type": "code",
   "execution_count": 117,
   "metadata": {},
   "outputs": [],
   "source": [
    "test_p.columns= [\"true_value\", \"prediction_percentage\"]"
   ]
  },
  {
   "cell_type": "code",
   "execution_count": 121,
   "metadata": {},
   "outputs": [
    {
     "name": "stderr",
     "output_type": "stream",
     "text": [
      "D:\\Data_Science\\lib\\site-packages\\sklearn\\utils\\validation.py:68: FutureWarning: Pass labels=[1, 0] as keyword args. From version 0.25 passing these as positional arguments will result in an error\n",
      "  warnings.warn(\"Pass {} as keyword args. From version 0.25 \"\n"
     ]
    },
    {
     "data": {
      "image/png": "[encoded data removed]",
      "text/plain": [
       "<Figure size 432x288 with 2 Axes>"
      ]
     },
     "metadata": {
      "needs_background": "light"
     },
     "output_type": "display_data"
    }
   ],
   "source": [
    "sns.heatmap((confusion_matrix(test_p.true_value ,test_p.prediction_percentage > best_accuracy[\"Cut Off\"].to_list()[0] , [1,0]) / test_p.shape[0]) * 100 ,\n",
    "           annot= True, fmt= \"0.3g\", xticklabels=[\"not default\", \"default\"], yticklabels=[\"not default\", \"default\"])\n",
    "plt.ylabel(\"True value\")\n",
    "plt.xlabel(\"predicted value\")\n",
    "plt.show()"
   ]
  },
  {
   "cell_type": "code",
   "execution_count": 122,
   "metadata": {},
   "outputs": [
    {
     "name": "stderr",
     "output_type": "stream",
     "text": [
      "D:\\Data_Science\\lib\\site-packages\\pandas\\core\\indexing.py:966: SettingWithCopyWarning: \n",
      "A value is trying to be set on a copy of a slice from a DataFrame.\n",
      "Try using .loc[row_indexer,col_indexer] = value instead\n",
      "\n",
      "See the caveats in the documentation: https://pandas.pydata.org/pandas-docs/stable/user_guide/indexing.html#returning-a-view-versus-a-copy\n",
      "  self.obj[item] = s\n"
     ]
    }
   ],
   "source": [
    "data_new.loc[:, \"default\"] = (my_model.predict(data_new.iloc[:, :-1]) > 0.3434).astype(int)"
   ]
  },
  {
   "cell_type": "code",
   "execution_count": 123,
   "metadata": {},
   "outputs": [
    {
     "data": {
      "text/html": [
       "<div>\n",
       "<style scoped>\n",
       "    .dataframe tbody tr th:only-of-type {\n",
       "        vertical-align: middle;\n",
       "    }\n",
       "\n",
       "    .dataframe tbody tr th {\n",
       "        vertical-align: top;\n",
       "    }\n",
       "\n",
       "    .dataframe thead th {\n",
       "        text-align: right;\n",
       "    }\n",
       "</style>\n",
       "<table border=\"1\" class=\"dataframe\">\n",
       "  <thead>\n",
       "    <tr style=\"text-align: right;\">\n",
       "      <th></th>\n",
       "      <th>age</th>\n",
       "      <th>ed</th>\n",
       "      <th>employ</th>\n",
       "      <th>address</th>\n",
       "      <th>income</th>\n",
       "      <th>debtinc</th>\n",
       "      <th>creddebt</th>\n",
       "      <th>othdebt</th>\n",
       "      <th>default</th>\n",
       "    </tr>\n",
       "  </thead>\n",
       "  <tbody>\n",
       "    <tr>\n",
       "      <th>700</th>\n",
       "      <td>36</td>\n",
       "      <td>1</td>\n",
       "      <td>16</td>\n",
       "      <td>13.00</td>\n",
       "      <td>32.0</td>\n",
       "      <td>10.9</td>\n",
       "      <td>0.544128</td>\n",
       "      <td>2.943872</td>\n",
       "      <td>0</td>\n",
       "    </tr>\n",
       "    <tr>\n",
       "      <th>701</th>\n",
       "      <td>50</td>\n",
       "      <td>1</td>\n",
       "      <td>6</td>\n",
       "      <td>26.51</td>\n",
       "      <td>21.0</td>\n",
       "      <td>12.9</td>\n",
       "      <td>1.316574</td>\n",
       "      <td>1.392426</td>\n",
       "      <td>0</td>\n",
       "    </tr>\n",
       "    <tr>\n",
       "      <th>702</th>\n",
       "      <td>40</td>\n",
       "      <td>1</td>\n",
       "      <td>9</td>\n",
       "      <td>9.00</td>\n",
       "      <td>33.0</td>\n",
       "      <td>17.0</td>\n",
       "      <td>4.880700</td>\n",
       "      <td>0.729300</td>\n",
       "      <td>1</td>\n",
       "    </tr>\n",
       "    <tr>\n",
       "      <th>703</th>\n",
       "      <td>31</td>\n",
       "      <td>1</td>\n",
       "      <td>5</td>\n",
       "      <td>7.00</td>\n",
       "      <td>23.0</td>\n",
       "      <td>2.0</td>\n",
       "      <td>0.046000</td>\n",
       "      <td>0.414000</td>\n",
       "      <td>0</td>\n",
       "    </tr>\n",
       "    <tr>\n",
       "      <th>704</th>\n",
       "      <td>29</td>\n",
       "      <td>1</td>\n",
       "      <td>4</td>\n",
       "      <td>0.00</td>\n",
       "      <td>24.0</td>\n",
       "      <td>7.8</td>\n",
       "      <td>0.866736</td>\n",
       "      <td>1.005264</td>\n",
       "      <td>1</td>\n",
       "    </tr>\n",
       "    <tr>\n",
       "      <th>...</th>\n",
       "      <td>...</td>\n",
       "      <td>...</td>\n",
       "      <td>...</td>\n",
       "      <td>...</td>\n",
       "      <td>...</td>\n",
       "      <td>...</td>\n",
       "      <td>...</td>\n",
       "      <td>...</td>\n",
       "      <td>...</td>\n",
       "    </tr>\n",
       "    <tr>\n",
       "      <th>845</th>\n",
       "      <td>34</td>\n",
       "      <td>1</td>\n",
       "      <td>12</td>\n",
       "      <td>15.00</td>\n",
       "      <td>32.0</td>\n",
       "      <td>2.7</td>\n",
       "      <td>0.239328</td>\n",
       "      <td>0.624672</td>\n",
       "      <td>0</td>\n",
       "    </tr>\n",
       "    <tr>\n",
       "      <th>846</th>\n",
       "      <td>32</td>\n",
       "      <td>2</td>\n",
       "      <td>12</td>\n",
       "      <td>11.00</td>\n",
       "      <td>116.0</td>\n",
       "      <td>5.7</td>\n",
       "      <td>4.026708</td>\n",
       "      <td>2.585292</td>\n",
       "      <td>0</td>\n",
       "    </tr>\n",
       "    <tr>\n",
       "      <th>847</th>\n",
       "      <td>48</td>\n",
       "      <td>1</td>\n",
       "      <td>13</td>\n",
       "      <td>11.00</td>\n",
       "      <td>38.0</td>\n",
       "      <td>10.8</td>\n",
       "      <td>0.722304</td>\n",
       "      <td>3.381696</td>\n",
       "      <td>0</td>\n",
       "    </tr>\n",
       "    <tr>\n",
       "      <th>848</th>\n",
       "      <td>35</td>\n",
       "      <td>2</td>\n",
       "      <td>1</td>\n",
       "      <td>11.00</td>\n",
       "      <td>24.0</td>\n",
       "      <td>7.8</td>\n",
       "      <td>0.417456</td>\n",
       "      <td>1.454544</td>\n",
       "      <td>0</td>\n",
       "    </tr>\n",
       "    <tr>\n",
       "      <th>849</th>\n",
       "      <td>37</td>\n",
       "      <td>1</td>\n",
       "      <td>20</td>\n",
       "      <td>13.00</td>\n",
       "      <td>41.0</td>\n",
       "      <td>12.9</td>\n",
       "      <td>0.899130</td>\n",
       "      <td>4.389870</td>\n",
       "      <td>0</td>\n",
       "    </tr>\n",
       "  </tbody>\n",
       "</table>\n",
       "<p>150 rows × 9 columns</p>\n",
       "</div>"
      ],
      "text/plain": [
       "     age  ed  employ  address  income  debtinc  creddebt   othdebt  default\n",
       "700   36   1      16    13.00    32.0     10.9  0.544128  2.943872        0\n",
       "701   50   1       6    26.51    21.0     12.9  1.316574  1.392426        0\n",
       "702   40   1       9     9.00    33.0     17.0  4.880700  0.729300        1\n",
       "703   31   1       5     7.00    23.0      2.0  0.046000  0.414000        0\n",
       "704   29   1       4     0.00    24.0      7.8  0.866736  1.005264        1\n",
       "..   ...  ..     ...      ...     ...      ...       ...       ...      ...\n",
       "845   34   1      12    15.00    32.0      2.7  0.239328  0.624672        0\n",
       "846   32   2      12    11.00   116.0      5.7  4.026708  2.585292        0\n",
       "847   48   1      13    11.00    38.0     10.8  0.722304  3.381696        0\n",
       "848   35   2       1    11.00    24.0      7.8  0.417456  1.454544        0\n",
       "849   37   1      20    13.00    41.0     12.9  0.899130  4.389870        0\n",
       "\n",
       "[150 rows x 9 columns]"
      ]
     },
     "execution_count": 123,
     "metadata": {},
     "output_type": "execute_result"
    }
   ],
   "source": [
    "data_new"
   ]
  }
 ],
 "metadata": {
  "kernelspec": {
   "display_name": "Python 3",
   "language": "python",
   "name": "python3"
  },
  "language_info": {
   "codemirror_mode": {
    "name": "ipython",
    "version": 3
   },
   "file_extension": ".py",
   "mimetype": "text/x-python",
   "name": "python",
   "nbconvert_exporter": "python",
   "pygments_lexer": "ipython3",
   "version": "3.8.3"
  }
 },
 "nbformat": 4,
 "nbformat_minor": 4
}
